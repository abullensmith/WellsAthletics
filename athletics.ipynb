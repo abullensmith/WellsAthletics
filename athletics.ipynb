{
 "cells": [
  {
   "cell_type": "code",
   "execution_count": 1,
   "metadata": {
    "collapsed": false,
    "deletable": true,
    "editable": true
   },
   "outputs": [],
   "source": [
    "\n",
    "import pandas as pd\n",
    "import numpy as np\n",
    "import matplotlib.pyplot as plt\n",
    "from collections import Counter\n"
   ]
  },
  {
   "cell_type": "code",
   "execution_count": 3,
   "metadata": {
    "collapsed": false,
    "deletable": true,
    "editable": true
   },
   "outputs": [],
   "source": [
    "bball = pd.read_csv('/Users/abullensmith/Documents/AllRosters/Rosters - Bball.csv', header=0)\n",
    "crew = pd.read_csv('/Users/abullensmith/Documents/AllRosters/Rosters - crew.csv', header=0)\n",
    "crosscountry = pd.read_csv('/Users/abullensmith/Documents/AllRosters/Rosters - crosscountry.csv', header=0)\n",
    "fencing = pd.read_csv('/Users/abullensmith/Documents/AllRosters/Rosters - Fencing.csv', header=0)\n",
    "fhockey = pd.read_csv('/Users/abullensmith/Documents/AllRosters/Rosters - Field Hockey.csv', header=0)\n",
    "golf = pd.read_csv('/Users/abullensmith/Documents/AllRosters/Rosters - golf.csv', header=0)\n",
    "lax = pd.read_csv('/Users/abullensmith/Documents/AllRosters/Rosters - Lax.csv', header=0)\n",
    "soccer = pd.read_csv('/Users/abullensmith/Documents/AllRosters/Rosters - Soccer.csv', header=0)\n",
    "sball = pd.read_csv('/Users/abullensmith/Documents/AllRosters/Rosters - Softball.csv', header=0)\n",
    "swive = pd.read_csv('/Users/abullensmith/Documents/AllRosters/Rosters - Swive.csv', header=0)\n",
    "tennis = pd.read_csv('/Users/abullensmith/Documents/AllRosters/Rosters - tennis.csv', header=0)\n",
    "track = pd.read_csv('/Users/abullensmith/Documents/AllRosters/Rosters - Track&Field.csv', header=0)\n",
    "vball = pd.read_csv('/Users/abullensmith/Documents/AllRosters/Rosters - volleyball.csv', header=0)"
   ]
  },
  {
   "cell_type": "code",
   "execution_count": 4,
   "metadata": {
    "collapsed": true,
    "deletable": true,
    "editable": true
   },
   "outputs": [],
   "source": [
    "listofAllRosters = [bball,crew,crosscountry,fencing,fhockey,golf,lax,soccer,sball,swive,tennis,track,vball]"
   ]
  },
  {
   "cell_type": "code",
   "execution_count": null,
   "metadata": {
    "collapsed": true,
    "deletable": true,
    "editable": true
   },
   "outputs": [],
   "source": [
    "bball.head()\n",
    "bball.columns"
   ]
  },
  {
   "cell_type": "code",
   "execution_count": 5,
   "metadata": {
    "collapsed": false,
    "deletable": true,
    "editable": true,
    "scrolled": false
   },
   "outputs": [
    {
     "name": "stdout",
     "output_type": "stream",
     "text": [
      "             Name\n",
      "Year             \n",
      "(2010-2011)     9\n",
      "(2011-2012)    11\n",
      "(2012-2013)    11\n",
      "(2013-2014)    10\n",
      "(2014-2015)    11\n",
      "(2015-2016)    11\n",
      "(2016-2017)    12\n",
      "(2017-2018)     9\n",
      "(2018-2019)    12\n",
      "(2019-2020)    11\n",
      "(2020-2021)    11\n",
      "             Name\n",
      "Year             \n",
      "(2010-2011)    24\n",
      "(2011-2012)    26\n",
      "(2012-2013)    27\n",
      "(2013-2014)    27\n",
      "(2014-2015)    19\n",
      "(2015-2016)    20\n",
      "(2016-2017)    12\n",
      "(2017-2018)    20\n",
      "(2018-2019)    20\n",
      "(2019-2020)    17\n",
      "(2020-2021)    15\n",
      "             Name\n",
      "Year             \n",
      "(2010-2011)    15\n",
      "(2011-2012)    13\n",
      "(2012-2013)    10\n",
      "(2013-2014)    13\n",
      "(2014-2015)    11\n",
      "(2015-2016)    14\n",
      "(2016-2017)    11\n",
      "(2017-2018)    16\n",
      "(2018-2019)    15\n",
      "(2019-2020)    20\n",
      "(2020-2021)    23\n",
      "             Name\n",
      "Year             \n",
      "(2010-2011)    16\n",
      "(2011-2012)    15\n",
      "(2012-2013)    19\n",
      "(2013-2014)    18\n",
      "(2014-2015)    19\n",
      "(2015-2016)    17\n",
      "(2016-2017)    20\n",
      "(2017-2018)    22\n",
      "(2018-2019)    20\n",
      "(2019-2020)    15\n",
      "(2020-2021)    18\n",
      "             Name\n",
      "Year             \n",
      "(2010-2011)     7\n",
      "(2011-2012)    11\n",
      "(2012-2013)    10\n",
      "(2013-2014)     7\n",
      "(2014-2015)     9\n",
      "(2015-2016)     5\n",
      "(2016-2017)     8\n",
      "(2017-2018)     8\n",
      "(2018-2019)     8\n",
      "(2019-2020)     8\n",
      "(2020-2021)     8\n",
      "             Name\n",
      "Year             \n",
      "(2010-2011)    16\n",
      "(2011-2012)    19\n",
      "(2012-2013)    15\n",
      "(2013-2014)    15\n",
      "(2014-2015)    16\n",
      "(2015-2016)    18\n",
      "(2016-2017)    19\n",
      "(2017-2018)    23\n",
      "(2018-2019)    22\n",
      "(2019-2020)    20\n",
      "(2020-2021)    19\n",
      "             Name\n",
      "Year             \n",
      "(2010-2011)    24\n",
      "(2011-2012)    17\n",
      "(2012-2013)    21\n",
      "(2013-2014)    23\n",
      "(2014-2015)    24\n",
      "(2015-2016)    22\n",
      "(2016-2017)    20\n",
      "(2017-2018)    19\n",
      "(2018-2019)    18\n",
      "(2019-2020)    20\n",
      "(2020-2021)    22\n",
      "             Name\n",
      "Year             \n",
      "(2010-2011)    16\n",
      "(2011-2012)    17\n",
      "(2012-2013)    17\n",
      "(2013-2014)    14\n",
      "(2014-2015)    13\n",
      "(2015-2016)    13\n",
      "(2016-2017)    15\n",
      "(2017-2018)    17\n",
      "(2018-2019)    16\n",
      "(2019-2020)    19\n",
      "(2020-2021)    22\n",
      "             Name\n",
      "Year             \n",
      "(2010-2011)    10\n",
      "(2011-2012)    10\n",
      "(2012-2013)     8\n",
      "(2013-2014)     8\n",
      "(2014-2015)     9\n",
      "(2015-2016)    10\n",
      "(2016-2017)    12\n",
      "(2017-2018)    10\n",
      "(2018-2019)    12\n",
      "(2019-2020)    11\n",
      "(2020-2021)    12\n",
      "             Name\n",
      "Year             \n",
      "(2010-2011)    24\n",
      "(2011-2012)    27\n",
      "(2012-2013)    30\n",
      "(2013-2014)    32\n",
      "(2014-2015)    28\n",
      "(2015-2016)    32\n",
      "(2016-2017)    28\n",
      "(2017-2018)    34\n",
      "(2018-2019)    30\n",
      "(2019-2020)    32\n",
      "(2020-2021)    36\n",
      "             Name\n",
      "Year             \n",
      "(2010-2011)    18\n",
      "(2011-2012)    17\n",
      "(2012-2013)    15\n",
      "(2013-2014)    15\n",
      "(2014-2015)    13\n",
      "(2015-2016)    16\n",
      "(2016-2017)    13\n",
      "(2017-2018)    15\n",
      "(2018-2019)    18\n",
      "(2019-2020)    15\n",
      "(2020-2021)    16\n",
      "             Name\n",
      "Year             \n",
      "(2010-2011)    23\n",
      "(2011-2012)    29\n",
      "(2012-2013)    21\n",
      "(2013-2014)    21\n",
      "(2014-2015)    21\n",
      "(2015-2016)    25\n",
      "(2016-2017)    20\n",
      "(2017-2018)    24\n",
      "(2018-2019)    25\n",
      "(2019-2020)    22\n",
      "(2020-2021)    27\n",
      "             Name\n",
      "Year             \n",
      "(2010-2011)    42\n",
      "(2011-2012)    38\n",
      "(2012-2013)    44\n",
      "(2013-2014)    38\n",
      "(2014-2015)    43\n",
      "(2015-2016)    49\n",
      "(2016-2017)    47\n",
      "(2017-2018)    43\n",
      "(2018-2019)    47\n",
      "(2019-2020)    45\n",
      "(2020-2021)    48\n"
     ]
    }
   ],
   "source": [
    "bballTeamSize = bball.groupby(['Year']).count()\n",
    "bballTeamSize = bballTeamSize[['Name']]\n",
    "print(bballTeamSize)\n",
    "\n",
    "xcTeamSize = crosscountry.groupby(['Year']).count()\n",
    "xcTeamSize = xcTeamSize[['Name']]\n",
    "print(xcTeamSize)\n",
    "\n",
    "fenTeamSize = fencing.groupby(['Year']).count()\n",
    "fenTeamSize = fenTeamSize[['Name']]\n",
    "print(fenTeamSize)\n",
    "\n",
    "fhTeamSize = fhockey.groupby(['Year']).count()\n",
    "fhTeamSize = fhTeamSize[['Name']]\n",
    "print(fhTeamSize)\n",
    "\n",
    "gTeamSize = golf.groupby(['Year']).count()\n",
    "gTeamSize = gTeamSize[['Name']]\n",
    "print(gTeamSize)\n",
    "\n",
    "laxTeamSize = lax.groupby(['Year']).count()\n",
    "laxTeamSize = laxTeamSize[['Name']]\n",
    "print(laxTeamSize)\n",
    "\n",
    "socTeamSize = soccer.groupby(['Year']).count()\n",
    "socTeamSize = socTeamSize[['Name']]\n",
    "print(socTeamSize)\n",
    "\n",
    "sbTeamSize = sball.groupby(['Year']).count()\n",
    "sbTeamSize = sbTeamSize[['Name']]\n",
    "print(sbTeamSize)\n",
    "\n",
    "tenTeamSize = tennis.groupby(['Year']).count()\n",
    "tenTeamSize = tenTeamSize[['Name']]\n",
    "print(tenTeamSize)\n",
    "\n",
    "tfTeamSize = track.groupby(['Year']).count()\n",
    "tfTeamSize = tfTeamSize[['Name']]\n",
    "print(tfTeamSize)\n",
    "\n",
    "vbTeamSize = vball.groupby(['Year']).count()\n",
    "vbTeamSize = vbTeamSize[['Name']]\n",
    "print(vbTeamSize)\n",
    "\n",
    "swiveTeamSize = swive.groupby(['Year']).count()\n",
    "swiveTeamSize = swiveTeamSize[['Name']]\n",
    "print(swiveTeamSize)\n",
    "\n",
    "crewTeamSize = crew.groupby(['Year']).count()\n",
    "crewTeamSize = crewTeamSize[['Name']]\n",
    "print(crewTeamSize)"
   ]
  },
  {
   "cell_type": "code",
   "execution_count": 6,
   "metadata": {
    "collapsed": true,
    "deletable": true,
    "editable": true
   },
   "outputs": [],
   "source": [
    "years = list(['(2010-2011)',\n",
    "'(2011-2012)',\n",
    "'(2012-2013)',\n",
    "'(2013-2014)',\n",
    "'(2014-2015)',\n",
    "'(2015-2016)',\n",
    "'(2016-2017)',\n",
    "'(2017-2018)',\n",
    "'(2018-2019)',\n",
    "'(2019-2020)',\n",
    "'(2020-2021)'])"
   ]
  },
  {
   "cell_type": "code",
   "execution_count": 7,
   "metadata": {
    "collapsed": false,
    "deletable": true,
    "editable": true
   },
   "outputs": [
    {
     "ename": "ValueError",
     "evalue": "could not convert string to float: (2010-2011)",
     "output_type": "error",
     "traceback": [
      "\u001b[0;31m\u001b[0m",
      "\u001b[0;31mValueError\u001b[0mTraceback (most recent call last)",
      "\u001b[0;32m<ipython-input-7-822ff82230e6>\u001b[0m in \u001b[0;36m<module>\u001b[0;34m()\u001b[0m\n\u001b[1;32m      1\u001b[0m \u001b[0mfig\u001b[0m\u001b[0;34m,\u001b[0m \u001b[0max\u001b[0m \u001b[0;34m=\u001b[0m \u001b[0mplt\u001b[0m\u001b[0;34m.\u001b[0m\u001b[0msubplots\u001b[0m\u001b[0;34m(\u001b[0m\u001b[0;34m)\u001b[0m\u001b[0;34m\u001b[0m\u001b[0m\n\u001b[0;32m----> 2\u001b[0;31m \u001b[0max\u001b[0m\u001b[0;34m.\u001b[0m\u001b[0mplot\u001b[0m\u001b[0;34m(\u001b[0m\u001b[0myears\u001b[0m\u001b[0;34m,\u001b[0m \u001b[0mcrewTeamSize\u001b[0m\u001b[0;34m,\u001b[0m \u001b[0mlabel\u001b[0m\u001b[0;34m=\u001b[0m\u001b[0;34m\"crew\"\u001b[0m\u001b[0;34m)\u001b[0m\u001b[0;34m\u001b[0m\u001b[0m\n\u001b[0m\u001b[1;32m      3\u001b[0m \u001b[0max\u001b[0m\u001b[0;34m.\u001b[0m\u001b[0mplot\u001b[0m\u001b[0;34m(\u001b[0m\u001b[0myears\u001b[0m\u001b[0;34m,\u001b[0m \u001b[0mswiveTeamSize\u001b[0m\u001b[0;34m,\u001b[0m \u001b[0mlabel\u001b[0m\u001b[0;34m=\u001b[0m\u001b[0;34m\"swive\"\u001b[0m\u001b[0;34m)\u001b[0m\u001b[0;34m\u001b[0m\u001b[0m\n\u001b[1;32m      4\u001b[0m \u001b[0max\u001b[0m\u001b[0;34m.\u001b[0m\u001b[0mplot\u001b[0m\u001b[0;34m(\u001b[0m\u001b[0myears\u001b[0m\u001b[0;34m,\u001b[0m \u001b[0mbballTeamSize\u001b[0m\u001b[0;34m,\u001b[0m \u001b[0mlabel\u001b[0m\u001b[0;34m=\u001b[0m\u001b[0;34m\"bball\"\u001b[0m\u001b[0;34m)\u001b[0m\u001b[0;34m\u001b[0m\u001b[0m\n\u001b[1;32m      5\u001b[0m \u001b[0max\u001b[0m\u001b[0;34m.\u001b[0m\u001b[0mplot\u001b[0m\u001b[0;34m(\u001b[0m\u001b[0myears\u001b[0m\u001b[0;34m,\u001b[0m \u001b[0mxcTeamSize\u001b[0m\u001b[0;34m,\u001b[0m \u001b[0mlabel\u001b[0m\u001b[0;34m=\u001b[0m\u001b[0;34m\"cross country\"\u001b[0m\u001b[0;34m)\u001b[0m\u001b[0;34m\u001b[0m\u001b[0m\n",
      "\u001b[0;32m/Users/abullensmith/Library/Enthought/Canopy/edm/envs/User/lib/python2.7/site-packages/matplotlib/__init__.pyc\u001b[0m in \u001b[0;36minner\u001b[0;34m(ax, *args, **kwargs)\u001b[0m\n\u001b[1;32m   1890\u001b[0m                     warnings.warn(msg % (label_namer, func.__name__),\n\u001b[1;32m   1891\u001b[0m                                   RuntimeWarning, stacklevel=2)\n\u001b[0;32m-> 1892\u001b[0;31m             \u001b[0;32mreturn\u001b[0m \u001b[0mfunc\u001b[0m\u001b[0;34m(\u001b[0m\u001b[0max\u001b[0m\u001b[0;34m,\u001b[0m \u001b[0;34m*\u001b[0m\u001b[0margs\u001b[0m\u001b[0;34m,\u001b[0m \u001b[0;34m**\u001b[0m\u001b[0mkwargs\u001b[0m\u001b[0;34m)\u001b[0m\u001b[0;34m\u001b[0m\u001b[0m\n\u001b[0m\u001b[1;32m   1893\u001b[0m         \u001b[0mpre_doc\u001b[0m \u001b[0;34m=\u001b[0m \u001b[0minner\u001b[0m\u001b[0;34m.\u001b[0m\u001b[0m__doc__\u001b[0m\u001b[0;34m\u001b[0m\u001b[0m\n\u001b[1;32m   1894\u001b[0m         \u001b[0;32mif\u001b[0m \u001b[0mpre_doc\u001b[0m \u001b[0;32mis\u001b[0m \u001b[0mNone\u001b[0m\u001b[0;34m:\u001b[0m\u001b[0;34m\u001b[0m\u001b[0m\n",
      "\u001b[0;32m/Users/abullensmith/Library/Enthought/Canopy/edm/envs/User/lib/python2.7/site-packages/matplotlib/axes/_axes.pyc\u001b[0m in \u001b[0;36mplot\u001b[0;34m(self, *args, **kwargs)\u001b[0m\n\u001b[1;32m   1405\u001b[0m \u001b[0;34m\u001b[0m\u001b[0m\n\u001b[1;32m   1406\u001b[0m         \u001b[0;32mfor\u001b[0m \u001b[0mline\u001b[0m \u001b[0;32min\u001b[0m \u001b[0mself\u001b[0m\u001b[0;34m.\u001b[0m\u001b[0m_get_lines\u001b[0m\u001b[0;34m(\u001b[0m\u001b[0;34m*\u001b[0m\u001b[0margs\u001b[0m\u001b[0;34m,\u001b[0m \u001b[0;34m**\u001b[0m\u001b[0mkwargs\u001b[0m\u001b[0;34m)\u001b[0m\u001b[0;34m:\u001b[0m\u001b[0;34m\u001b[0m\u001b[0m\n\u001b[0;32m-> 1407\u001b[0;31m             \u001b[0mself\u001b[0m\u001b[0;34m.\u001b[0m\u001b[0madd_line\u001b[0m\u001b[0;34m(\u001b[0m\u001b[0mline\u001b[0m\u001b[0;34m)\u001b[0m\u001b[0;34m\u001b[0m\u001b[0m\n\u001b[0m\u001b[1;32m   1408\u001b[0m             \u001b[0mlines\u001b[0m\u001b[0;34m.\u001b[0m\u001b[0mappend\u001b[0m\u001b[0;34m(\u001b[0m\u001b[0mline\u001b[0m\u001b[0;34m)\u001b[0m\u001b[0;34m\u001b[0m\u001b[0m\n\u001b[1;32m   1409\u001b[0m \u001b[0;34m\u001b[0m\u001b[0m\n",
      "\u001b[0;32m/Users/abullensmith/Library/Enthought/Canopy/edm/envs/User/lib/python2.7/site-packages/matplotlib/axes/_base.pyc\u001b[0m in \u001b[0;36madd_line\u001b[0;34m(self, line)\u001b[0m\n\u001b[1;32m   1785\u001b[0m             \u001b[0mline\u001b[0m\u001b[0;34m.\u001b[0m\u001b[0mset_clip_path\u001b[0m\u001b[0;34m(\u001b[0m\u001b[0mself\u001b[0m\u001b[0;34m.\u001b[0m\u001b[0mpatch\u001b[0m\u001b[0;34m)\u001b[0m\u001b[0;34m\u001b[0m\u001b[0m\n\u001b[1;32m   1786\u001b[0m \u001b[0;34m\u001b[0m\u001b[0m\n\u001b[0;32m-> 1787\u001b[0;31m         \u001b[0mself\u001b[0m\u001b[0;34m.\u001b[0m\u001b[0m_update_line_limits\u001b[0m\u001b[0;34m(\u001b[0m\u001b[0mline\u001b[0m\u001b[0;34m)\u001b[0m\u001b[0;34m\u001b[0m\u001b[0m\n\u001b[0m\u001b[1;32m   1788\u001b[0m         \u001b[0;32mif\u001b[0m \u001b[0;32mnot\u001b[0m \u001b[0mline\u001b[0m\u001b[0;34m.\u001b[0m\u001b[0mget_label\u001b[0m\u001b[0;34m(\u001b[0m\u001b[0;34m)\u001b[0m\u001b[0;34m:\u001b[0m\u001b[0;34m\u001b[0m\u001b[0m\n\u001b[1;32m   1789\u001b[0m             \u001b[0mline\u001b[0m\u001b[0;34m.\u001b[0m\u001b[0mset_label\u001b[0m\u001b[0;34m(\u001b[0m\u001b[0;34m'_line%d'\u001b[0m \u001b[0;34m%\u001b[0m \u001b[0mlen\u001b[0m\u001b[0;34m(\u001b[0m\u001b[0mself\u001b[0m\u001b[0;34m.\u001b[0m\u001b[0mlines\u001b[0m\u001b[0;34m)\u001b[0m\u001b[0;34m)\u001b[0m\u001b[0;34m\u001b[0m\u001b[0m\n",
      "\u001b[0;32m/Users/abullensmith/Library/Enthought/Canopy/edm/envs/User/lib/python2.7/site-packages/matplotlib/axes/_base.pyc\u001b[0m in \u001b[0;36m_update_line_limits\u001b[0;34m(self, line)\u001b[0m\n\u001b[1;32m   1807\u001b[0m         \u001b[0mFigures\u001b[0m \u001b[0mout\u001b[0m \u001b[0mthe\u001b[0m \u001b[0mdata\u001b[0m \u001b[0mlimit\u001b[0m \u001b[0mof\u001b[0m \u001b[0mthe\u001b[0m \u001b[0mgiven\u001b[0m \u001b[0mline\u001b[0m\u001b[0;34m,\u001b[0m \u001b[0mupdating\u001b[0m \u001b[0mself\u001b[0m\u001b[0;34m.\u001b[0m\u001b[0mdataLim\u001b[0m\u001b[0;34m.\u001b[0m\u001b[0;34m\u001b[0m\u001b[0m\n\u001b[1;32m   1808\u001b[0m         \"\"\"\n\u001b[0;32m-> 1809\u001b[0;31m         \u001b[0mpath\u001b[0m \u001b[0;34m=\u001b[0m \u001b[0mline\u001b[0m\u001b[0;34m.\u001b[0m\u001b[0mget_path\u001b[0m\u001b[0;34m(\u001b[0m\u001b[0;34m)\u001b[0m\u001b[0;34m\u001b[0m\u001b[0m\n\u001b[0m\u001b[1;32m   1810\u001b[0m         \u001b[0;32mif\u001b[0m \u001b[0mpath\u001b[0m\u001b[0;34m.\u001b[0m\u001b[0mvertices\u001b[0m\u001b[0;34m.\u001b[0m\u001b[0msize\u001b[0m \u001b[0;34m==\u001b[0m \u001b[0;36m0\u001b[0m\u001b[0;34m:\u001b[0m\u001b[0;34m\u001b[0m\u001b[0m\n\u001b[1;32m   1811\u001b[0m             \u001b[0;32mreturn\u001b[0m\u001b[0;34m\u001b[0m\u001b[0m\n",
      "\u001b[0;32m/Users/abullensmith/Library/Enthought/Canopy/edm/envs/User/lib/python2.7/site-packages/matplotlib/lines.pyc\u001b[0m in \u001b[0;36mget_path\u001b[0;34m(self)\u001b[0m\n\u001b[1;32m    987\u001b[0m         \"\"\"\n\u001b[1;32m    988\u001b[0m         \u001b[0;32mif\u001b[0m \u001b[0mself\u001b[0m\u001b[0;34m.\u001b[0m\u001b[0m_invalidy\u001b[0m \u001b[0;32mor\u001b[0m \u001b[0mself\u001b[0m\u001b[0;34m.\u001b[0m\u001b[0m_invalidx\u001b[0m\u001b[0;34m:\u001b[0m\u001b[0;34m\u001b[0m\u001b[0m\n\u001b[0;32m--> 989\u001b[0;31m             \u001b[0mself\u001b[0m\u001b[0;34m.\u001b[0m\u001b[0mrecache\u001b[0m\u001b[0;34m(\u001b[0m\u001b[0;34m)\u001b[0m\u001b[0;34m\u001b[0m\u001b[0m\n\u001b[0m\u001b[1;32m    990\u001b[0m         \u001b[0;32mreturn\u001b[0m \u001b[0mself\u001b[0m\u001b[0;34m.\u001b[0m\u001b[0m_path\u001b[0m\u001b[0;34m\u001b[0m\u001b[0m\n\u001b[1;32m    991\u001b[0m \u001b[0;34m\u001b[0m\u001b[0m\n",
      "\u001b[0;32m/Users/abullensmith/Library/Enthought/Canopy/edm/envs/User/lib/python2.7/site-packages/matplotlib/lines.pyc\u001b[0m in \u001b[0;36mrecache\u001b[0;34m(self, always)\u001b[0m\n\u001b[1;32m    674\u001b[0m                 \u001b[0mx\u001b[0m \u001b[0;34m=\u001b[0m \u001b[0mma\u001b[0m\u001b[0;34m.\u001b[0m\u001b[0masarray\u001b[0m\u001b[0;34m(\u001b[0m\u001b[0mxconv\u001b[0m\u001b[0;34m,\u001b[0m \u001b[0mnp\u001b[0m\u001b[0;34m.\u001b[0m\u001b[0mfloat_\u001b[0m\u001b[0;34m)\u001b[0m\u001b[0;34m.\u001b[0m\u001b[0mfilled\u001b[0m\u001b[0;34m(\u001b[0m\u001b[0mnp\u001b[0m\u001b[0;34m.\u001b[0m\u001b[0mnan\u001b[0m\u001b[0;34m)\u001b[0m\u001b[0;34m\u001b[0m\u001b[0m\n\u001b[1;32m    675\u001b[0m             \u001b[0;32melse\u001b[0m\u001b[0;34m:\u001b[0m\u001b[0;34m\u001b[0m\u001b[0m\n\u001b[0;32m--> 676\u001b[0;31m                 \u001b[0mx\u001b[0m \u001b[0;34m=\u001b[0m \u001b[0mnp\u001b[0m\u001b[0;34m.\u001b[0m\u001b[0masarray\u001b[0m\u001b[0;34m(\u001b[0m\u001b[0mxconv\u001b[0m\u001b[0;34m,\u001b[0m \u001b[0mnp\u001b[0m\u001b[0;34m.\u001b[0m\u001b[0mfloat_\u001b[0m\u001b[0;34m)\u001b[0m\u001b[0;34m\u001b[0m\u001b[0m\n\u001b[0m\u001b[1;32m    677\u001b[0m             \u001b[0mx\u001b[0m \u001b[0;34m=\u001b[0m \u001b[0mx\u001b[0m\u001b[0;34m.\u001b[0m\u001b[0mravel\u001b[0m\u001b[0;34m(\u001b[0m\u001b[0;34m)\u001b[0m\u001b[0;34m\u001b[0m\u001b[0m\n\u001b[1;32m    678\u001b[0m         \u001b[0;32melse\u001b[0m\u001b[0;34m:\u001b[0m\u001b[0;34m\u001b[0m\u001b[0m\n",
      "\u001b[0;32m/Users/abullensmith/Library/Enthought/Canopy/edm/envs/User/lib/python2.7/site-packages/numpy/core/numeric.pyc\u001b[0m in \u001b[0;36masarray\u001b[0;34m(a, dtype, order)\u001b[0m\n\u001b[1;32m    529\u001b[0m \u001b[0;34m\u001b[0m\u001b[0m\n\u001b[1;32m    530\u001b[0m     \"\"\"\n\u001b[0;32m--> 531\u001b[0;31m     \u001b[0;32mreturn\u001b[0m \u001b[0marray\u001b[0m\u001b[0;34m(\u001b[0m\u001b[0ma\u001b[0m\u001b[0;34m,\u001b[0m \u001b[0mdtype\u001b[0m\u001b[0;34m,\u001b[0m \u001b[0mcopy\u001b[0m\u001b[0;34m=\u001b[0m\u001b[0mFalse\u001b[0m\u001b[0;34m,\u001b[0m \u001b[0morder\u001b[0m\u001b[0;34m=\u001b[0m\u001b[0morder\u001b[0m\u001b[0;34m)\u001b[0m\u001b[0;34m\u001b[0m\u001b[0m\n\u001b[0m\u001b[1;32m    532\u001b[0m \u001b[0;34m\u001b[0m\u001b[0m\n\u001b[1;32m    533\u001b[0m \u001b[0;34m\u001b[0m\u001b[0m\n",
      "\u001b[0;31mValueError\u001b[0m: could not convert string to float: (2010-2011)"
     ]
    }
   ],
   "source": [
    "fig, ax = plt.subplots()\n",
    "ax.plot(years, crewTeamSize, label=\"crew\")\n",
    "ax.plot(years, swiveTeamSize, label=\"swive\")\n",
    "ax.plot(years, bballTeamSize, label=\"bball\")\n",
    "ax.plot(years, xcTeamSize, label=\"cross country\")\n",
    "ax.plot(years, fenTeamSize, label=\"fencing\")\n",
    "ax.plot(years, fhTeamSize, label=\"field hockey\")\n",
    "ax.plot(years, gTeamSize, label=\"golf\")\n",
    "ax.plot(years, laxTeamSize, label=\"Lacrosse\")\n",
    "ax.plot(years, socTeamSize, label=\"soccer\")\n",
    "ax.plot(years, sbTeamSize, label=\"softball\")\n",
    "ax.plot(years, tenTeamSize, label=\"tennis\")\n",
    "ax.plot(years, tfTeamSize, label=\"track & field\")\n",
    "ax.plot(years, vbTeamSize, label=\"volleyball\")\n",
    "\n",
    "ax.legend()\n",
    "plt.title('Wellesley Varsity Athletics Team Size over the last 10 years')\n",
    "plt.xlabel('Seasons')\n",
    "plt.ylabel('Number of Team members')"
   ]
  },
  {
   "cell_type": "code",
   "execution_count": 12,
   "metadata": {
    "collapsed": false,
    "deletable": true,
    "editable": true
   },
   "outputs": [
    {
     "name": "stdout",
     "output_type": "stream",
     "text": [
      "Collecting selenium\n",
      "\u001b[33m  Cache entry deserialization failed, entry ignored\u001b[0m\n",
      "\u001b[33m  Cache entry deserialization failed, entry ignored\u001b[0m\n",
      "  Downloading https://files.pythonhosted.org/packages/80/d6/4294f0b4bce4de0abf13e17190289f9d0613b0a44e5dd6a7f5ca98459853/selenium-3.141.0-py2.py3-none-any.whl (904kB)\n",
      "\u001b[K    100% |################################| 911kB 305kB/s ta 0:00:01\n",
      "\u001b[?25hRequirement already satisfied: urllib3 in /Users/abullensmith/Library/Enthought/Canopy/edm/envs/User/lib/python2.7/site-packages (from selenium)\n",
      "Installing collected packages: selenium\n",
      "Successfully installed selenium-3.141.0\n",
      "\u001b[33mYou are using pip version 9.0.3, however version 20.3.3 is available.\n",
      "You should consider upgrading via the 'pip install --upgrade pip' command.\u001b[0m\n"
     ]
    }
   ],
   "source": [
    "!pip install selenium"
   ]
  },
  {
   "cell_type": "code",
   "execution_count": 13,
   "metadata": {
    "collapsed": false,
    "deletable": true,
    "editable": true
   },
   "outputs": [
    {
     "name": "stdout",
     "output_type": "stream",
     "text": [
      "\u001b[33mCache entry deserialization failed, entry ignored\u001b[0m\n",
      "Collecting pip\n",
      "\u001b[33m  Cache entry deserialization failed, entry ignored\u001b[0m\n",
      "  Downloading https://files.pythonhosted.org/packages/54/eb/4a3642e971f404d69d4f6fa3885559d67562801b99d7592487f1ecc4e017/pip-20.3.3-py2.py3-none-any.whl (1.5MB)\n",
      "\u001b[K    100% |################################| 1.5MB 257kB/s ta 0:00:01\n",
      "\u001b[?25hInstalling collected packages: pip\n",
      "  Found existing installation: pip 9.0.3\n",
      "    Uninstalling pip-9.0.3:\n",
      "      Successfully uninstalled pip-9.0.3\n",
      "Successfully installed pip-20.3.3\n"
     ]
    }
   ],
   "source": [
    "!pip install --upgrade pip\n"
   ]
  },
  {
   "cell_type": "code",
   "execution_count": 14,
   "metadata": {
    "collapsed": true,
    "deletable": true,
    "editable": true
   },
   "outputs": [],
   "source": [
    "from selenium import webdriver"
   ]
  },
  {
   "cell_type": "code",
   "execution_count": 15,
   "metadata": {
    "collapsed": true,
    "deletable": true,
    "editable": true
   },
   "outputs": [],
   "source": [
    "from selenium.webdriver.chrome.options import Options"
   ]
  },
  {
   "cell_type": "code",
   "execution_count": 16,
   "metadata": {
    "collapsed": true,
    "deletable": true,
    "editable": true
   },
   "outputs": [],
   "source": [
    "options = Options()\n",
    "options.page_load_strategy = 'eager'"
   ]
  },
  {
   "cell_type": "code",
   "execution_count": 29,
   "metadata": {
    "collapsed": false,
    "deletable": true,
    "editable": true
   },
   "outputs": [],
   "source": [
    "DRIVER_PATH = '/Users/abullensmith/Downloads/chromedriver'\n",
    "driver = webdriver.Chrome(executable_path=DRIVER_PATH, options=options)"
   ]
  },
  {
   "cell_type": "code",
   "execution_count": 19,
   "metadata": {
    "collapsed": true,
    "deletable": true,
    "editable": true
   },
   "outputs": [],
   "source": [
    "driver.get('https://www.wellesleyblue.com/sports/wbkb/2020-21/roster')"
   ]
  },
  {
   "cell_type": "code",
   "execution_count": 21,
   "metadata": {
    "collapsed": false,
    "deletable": true,
    "editable": true
   },
   "outputs": [
    {
     "data": {
      "text/plain": [
       "[<selenium.webdriver.remote.webelement.WebElement (session=\"4dd3d4c7b949a8b343b400c2e476c089\", element=\"66817fc4-2bac-43e7-ba98-039e038650be\")>]"
      ]
     },
     "execution_count": 21,
     "metadata": {},
     "output_type": "execute_result"
    }
   ],
   "source": [
    "pages = driver.find_elements_by_class_name('roster-footer')\n",
    "pages"
   ]
  },
  {
   "cell_type": "code",
   "execution_count": 22,
   "metadata": {
    "collapsed": false,
    "deletable": true,
    "editable": true
   },
   "outputs": [
    {
     "data": {
      "text/plain": [
       "[u\"Head Coach: Jennifer Kroll\\nAssistant Coach: Ally Esielionis\\nManager: Liz Huang '22\"]"
      ]
     },
     "execution_count": 22,
     "metadata": {},
     "output_type": "execute_result"
    }
   ],
   "source": [
    "[elem.text for elem in pages]"
   ]
  },
  {
   "cell_type": "code",
   "execution_count": 31,
   "metadata": {
    "collapsed": true,
    "deletable": true,
    "editable": true
   },
   "outputs": [],
   "source": [
    "years = ['2010-11','2011-12','2012-13','2013-14','2014-15','2015-16','2016-17','2017-18','2018-19','2019-20','2020-21']"
   ]
  },
  {
   "cell_type": "code",
   "execution_count": 25,
   "metadata": {
    "collapsed": false,
    "deletable": true,
    "editable": true
   },
   "outputs": [],
   "source": [
    "def getCoaches():\n",
    "    coaches = driver.find_elements_by_class_name('roster-footer')\n",
    "    return [elem.text for elem in coaches]"
   ]
  },
  {
   "cell_type": "code",
   "execution_count": 26,
   "metadata": {
    "collapsed": true,
    "deletable": true,
    "editable": true
   },
   "outputs": [],
   "source": [
    "teamAbr =['wbkb','wcrew','wxc','wfencing','fh','wgolf','wlax','wsoc','sball','wswimdive','wten','wtrack','wvball']"
   ]
  },
  {
   "cell_type": "code",
   "execution_count": 32,
   "metadata": {
    "collapsed": false,
    "deletable": true,
    "editable": true
   },
   "outputs": [
    {
     "data": {
      "text/plain": [
       "[[u\"  Head Coach: Jennifer Kroll\\nAssistant Coach: Amanda Leahy\\nVolunteer Assistants: Katie Martore '10, Ali Ahmed, Jade Prickett\"],\n",
       " [u\"  Head Coach: Jennifer Kroll\\nAssistant Coach: Amanda Leahy\\nCaptains: Elisha Orama, Ashleigh Sargent, Malia Maier\\nStudent Assistant: Tya Logan '14\\n \"],\n",
       " [],\n",
       " [u\"  Head Coach: Jennifer Kroll\\nAssistant Coach: Al Berger\\nCaptains: Leslie Leong, Meghan Sargent\\nStudent Assistant: Tya Logan '14\\n \"],\n",
       " [u'  Head Coach: Jennifer Kroll\\nAssistant Coach: Al Berger\\nCaptains: Natalie Anderson, Meghan Sargent'],\n",
       " [u'Head Coach: Jennifer Kroll (7th Season)\\nAssistant Coach: Al Berger\\nCaptains: Chelsi Scott'],\n",
       " [u'Head Coach: Jennifer Kroll (8th Season)'],\n",
       " [u'Head Coach: Jennifer Kroll (9th Season)\\nAssistant Coach: Kaitlin Lewis'],\n",
       " [u\"Head Coach: Jennifer Kroll (10th Season)\\nAssistant Coach: Kaitlin Lewis\\nCaptains: Zojajha Ayub, Caitlin Aguirre\\nManager: Liz Huang '22\"],\n",
       " [u\"Head Coach: Jennifer Kroll (11th Season)\\nAssistant Coach: Ally Esielionis\\nCaptains: Caitlin Aguirre, Emily Kopp, Kendall You Mak\\nManager: Liz Huang '22\"],\n",
       " [u\"Head Coach: Jennifer Kroll\\nAssistant Coach: Ally Esielionis\\nManager: Liz Huang '22\"]]"
      ]
     },
     "execution_count": 32,
     "metadata": {},
     "output_type": "execute_result"
    }
   ],
   "source": [
    "sport = 'wbkb'\n",
    "bballCoaches = []\n",
    "for year in years:\n",
    "    url = 'https://www.wellesleyblue.com/sports/'+sport+'/'+year+'/roster'\n",
    "    driver.get(url)\n",
    "    bballCoaches.append(getCoaches())\n",
    "bballCoaches"
   ]
  },
  {
   "cell_type": "code",
   "execution_count": null,
   "metadata": {
    "collapsed": true,
    "deletable": true,
    "editable": true
   },
   "outputs": [],
   "source": []
  }
 ],
 "metadata": {
  "kernelspec": {
   "display_name": "Python 2",
   "language": "python",
   "name": "python2"
  },
  "language_info": {
   "codemirror_mode": {
    "name": "ipython",
    "version": 2
   },
   "file_extension": ".py",
   "mimetype": "text/x-python",
   "name": "python",
   "nbconvert_exporter": "python",
   "pygments_lexer": "ipython2",
   "version": "2.7.13"
  }
 },
 "nbformat": 4,
 "nbformat_minor": 2
}
